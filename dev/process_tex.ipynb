{
 "cells": [
  {
   "cell_type": "code",
   "execution_count": 36,
   "metadata": {},
   "outputs": [
    {
     "name": "stdout",
     "output_type": "stream",
     "text": [
      "['dev\\\\header.txt', 'drawings/claude-3-opus-20240229.tex', 'drawings/claude-3-sonnet-20240229.tex', 'drawings/gpt-4-1106-preview.tex', 'drawings/gpt-4-turbo-2024-04-09.tex', 'drawings/llama-3-70b-instruct (1).tex', 'drawings/llama-3-70b-instruct.tex', 'drawings/llama-3-8b-instruct (1).tex', 'drawings/llama-3-8b-instruct (2).tex', 'drawings/llama-3-8b-instruct (3).tex', 'drawings/llama-3-8b-instruct (4).tex', 'drawings/llama-3-8b-instruct.tex', 'drawings/mixtral-8x22b-instruct-v0.1 (1).tex', 'drawings/mixtral-8x22b-instruct-v0.1 (2).tex', 'drawings/mixtral-8x22b-instruct-v0.1.tex', 'drawings/phi-3-mini-128k-instruct (1).tex', 'drawings/phi-3-mini-128k-instruct.tex', 'dev\\\\footer.txt']\n",
      "TeX file created: new_tests.tex\n",
      "pdf created.\n"
     ]
    },
    {
     "data": {
      "text/plain": [
       "0"
      ]
     },
     "execution_count": 36,
     "metadata": {},
     "output_type": "execute_result"
    }
   ],
   "source": [
    "# this is the code i currently use to compile\n",
    "\n",
    "import os\n",
    "\n",
    "drawings_path = \"drawings\"\n",
    "output_file = 'new_tests.tex'\n",
    "header_file = \"dev\\header.txt\"\n",
    "footer_file = \"dev\\\\footer.txt\"\n",
    "\n",
    "def combine_tex_files(drawings_path, output_file):\n",
    "    tex_files  = [header_file]\n",
    "    tex_files += [drawings_path + \"/\" + f for f in os.listdir(drawings_path) if f.endswith('.tex')]\n",
    "    tex_files += [footer_file]\n",
    "\n",
    "    print(tex_files)\n",
    "    with open(output_file, 'w') as outfile:\n",
    "        \n",
    "        for tex_file in tex_files:\n",
    "            with open(tex_file, 'r') as infile:\n",
    "                # title = r\"\\subsection{\" + tex_file + \"}\"\n",
    "                if tex_file[:3] != \"dev\":\n",
    "                    outfile.write('\\\\begin{figure}[h] \\n\\n')\n",
    "                    outfile.write('\\\\centering \\n\\n')\n",
    "                # outfile.write(f\"{title}\\n\\n\")\n",
    "                outfile.write(infile.read())\n",
    "                outfile.write('\\n\\n')\n",
    "                if tex_file[:3] != \"dev\":\n",
    "                    # don't include a caption if its header for footer\n",
    "                    caption = r\"\\caption{\" + tex_file[9:] + \"}\"\n",
    "                    outfile.write(f'{caption} \\n\\n')\n",
    "                    outfile.write('\\\\end{figure} \\n\\n')\n",
    "\n",
    "\n",
    "    \n",
    "combine_tex_files(drawings_path, output_file)\n",
    "print(\"TeX file created:\", output_file)\n",
    "os.system(f\"pdflatex {output_file}\")\n",
    "print(\"pdf created.\")\n",
    "# delete the extra files pdflatex created\n",
    "os.system(f\"del {output_file[:-4]}.log {output_file[:-4]}.aux {output_file[:-4]}.out\")\n",
    "print(\"extra files removed.\")"
   ]
  },
  {
   "cell_type": "code",
   "execution_count": 34,
   "metadata": {},
   "outputs": [
    {
     "data": {
      "text/plain": [
       "0"
      ]
     },
     "execution_count": 34,
     "metadata": {},
     "output_type": "execute_result"
    }
   ],
   "source": [
    "os.system(f\"del {output_file[:-4]}.log\")"
   ]
  },
  {
   "cell_type": "code",
   "execution_count": 19,
   "metadata": {},
   "outputs": [
    {
     "name": "stdout",
     "output_type": "stream",
     "text": [
      "['dev\\\\header.txt', 'drawings/claude-3-opus-20240229.tex', 'drawings/claude-3-sonnet-20240229.tex', 'drawings/gpt-4-1106-preview.tex', 'drawings/gpt-4-turbo-2024-04-09.tex', 'drawings/llama-3-70b-instruct (1).tex', 'drawings/llama-3-70b-instruct.tex', 'drawings/llama-3-8b-instruct (1).tex', 'drawings/llama-3-8b-instruct (2).tex', 'drawings/llama-3-8b-instruct (3).tex', 'drawings/llama-3-8b-instruct (4).tex', 'drawings/llama-3-8b-instruct.tex', 'drawings/mixtral-8x22b-instruct-v0.1 (1).tex', 'drawings/mixtral-8x22b-instruct-v0.1 (2).tex', 'drawings/mixtral-8x22b-instruct-v0.1.tex', 'drawings/phi-3-mini-128k-instruct (1).tex', 'drawings/phi-3-mini-128k-instruct.tex', 'dev\\\\footer.txt']\n",
      "Combination complete. Output file: combined.tex\n"
     ]
    }
   ],
   "source": [
    "# for this code i was trying to get it to display better as a gallery, but I could never get it to work\n",
    "\n",
    "import os\n",
    "\n",
    "drawings_path = \"drawings\"\n",
    "output_file = 'combined.tex'\n",
    "header_file = \"dev\\header.txt\"\n",
    "footer_file = \"dev\\\\footer.txt\"\n",
    "\n",
    "def combine_tex_files(drawings_path, output_file):\n",
    "    tex_files  = [header_file]\n",
    "    tex_files += [drawings_path + \"/\" + f for f in os.listdir(drawings_path) if f.endswith('.tex')]\n",
    "    tex_files += [footer_file]\n",
    "\n",
    "    print(tex_files)\n",
    "    with open(output_file, 'w') as outfile:\n",
    "        \n",
    "        begfig = 0\n",
    "        for tex_file in tex_files:\n",
    "            with open(tex_file, 'r') as infile:\n",
    "\n",
    "                # title = r\"\\subsection{\" + tex_file + \"}\"\n",
    "                if tex_file[:3] != \"dev\" and begfig == 0:\n",
    "                    outfile.write('\\\\begin{figure} \\n\\n')\n",
    "                    begfig = 1\n",
    "                if tex_file[:3] == \"dev\" and begfig == 1:\n",
    "                    outfile.write('\\\\end{figure} \\n\\n')\n",
    "                # outfile.write(f\"{title}\\n\\n\")\n",
    "                outfile.write(infile.read())\n",
    "                # outfile.write(\"FILE\")\n",
    "                outfile.write('\\n\\n')\n",
    "                if tex_file[:3] != \"dev\":\n",
    "\n",
    "                    outfile.write(\"\\\\begin{subfigure}[b]{0.2\\\\textwidth} \\n\\n\")\n",
    "                    # don't include a caption if its header for footer\n",
    "                    caption = r\"\\caption{\" + tex_file[9:] + \"}\"\n",
    "                    outfile.write(f'{caption} \\n\\n')\n",
    "                    outfile.write(\"\\\\end{subfigure} \\n\\n\")\n",
    "                \n",
    "                    \n",
    "\n",
    "\n",
    "    \n",
    "combine_tex_files(drawings_path, output_file)\n",
    "print(\"Combination complete. Output file:\", output_file)"
   ]
  }
 ],
 "metadata": {
  "kernelspec": {
   "display_name": "Python 3",
   "language": "python",
   "name": "python3"
  },
  "language_info": {
   "codemirror_mode": {
    "name": "ipython",
    "version": 3
   },
   "file_extension": ".py",
   "mimetype": "text/x-python",
   "name": "python",
   "nbconvert_exporter": "python",
   "pygments_lexer": "ipython3",
   "version": "3.9.0"
  }
 },
 "nbformat": 4,
 "nbformat_minor": 2
}
